{
 "cells": [
  {
   "cell_type": "code",
   "execution_count": 3,
   "metadata": {},
   "outputs": [],
   "source": [
    "import scipy\n",
    "import matplotlib.pyplot as plt\n",
    "from scipy.io.idl import readsav"
   ]
  },
  {
   "cell_type": "code",
   "execution_count": 6,
   "metadata": {},
   "outputs": [
    {
     "name": "stdout",
     "output_type": "stream",
     "text": [
      "--------------------------------------------------\n",
      "Date: Thu Sep 26 15:11:30 2019\n",
      "User: kreardon\n",
      "Host: secchi.int.boulder.nso.edu\n",
      "--------------------------------------------------\n",
      "Format: 12\n",
      "Architecture: x86_64\n",
      "Operating System: linux\n",
      "IDL Version: 8.5\n",
      "--------------------------------------------------\n",
      "Successfully read 11 records of which:\n",
      " - 8 are of type VARIABLE\n",
      " - 1 are of type TIMESTAMP\n",
      " - 1 are of type VERSION\n",
      "--------------------------------------------------\n",
      "Available variables:\n",
      " - wlrat_k3_25apr [<class 'numpy.ndarray'>]\n",
      " - wlrat_k5_25apr [<class 'numpy.ndarray'>]\n",
      " - wlrat_k7_25apr [<class 'numpy.ndarray'>]\n",
      " - wlrat_k11_25apr [<class 'numpy.ndarray'>]\n",
      " - rms_25apr [<class 'numpy.ndarray'>]\n",
      " - mfgs_full_25apr [<class 'numpy.ndarray'>]\n",
      " - mfgs_local_25apr [<class 'numpy.ndarray'>]\n",
      " - image_25apr_aveint [<class 'numpy.ndarray'>]\n",
      "--------------------------------------------------\n"
     ]
    }
   ],
   "source": [
    "image_quality = readsav('quality.metrics.by.image.ave.25Apr2019.wl.all.25Sep2019.sav',verbose=True)"
   ]
  },
  {
   "cell_type": "code",
   "execution_count": 17,
   "metadata": {},
   "outputs": [
    {
     "data": {
      "text/plain": [
       "array([[[3222.131 , 3220.9722, 3222.7952, ..., 3234.807 , 3235.761 ,\n",
       "         3238.741 ],\n",
       "        [3244.4998, 3246.2974, 3242.4524, ..., 3249.0671, 3248.473 ,\n",
       "         3249.8298],\n",
       "        [3258.1023, 3256.5813, 3255.535 , ..., 3260.5571, 3260.7913,\n",
       "         3260.0327],\n",
       "        ...,\n",
       "        [3920.0564, 3921.078 , 3918.5671, ..., 3916.119 , 3918.0356,\n",
       "         3914.7117],\n",
       "        [3919.7263, 3915.0293, 3916.7317, ..., 3916.6208, 3915.2627,\n",
       "         3917.5237],\n",
       "        [3920.1108, 3918.1536, 3919.154 , ..., 3916.6929, 3916.7656,\n",
       "         3920.6255]],\n",
       "\n",
       "       [[3370.0408, 3368.818 , 3370.7207, ..., 3383.2852, 3384.307 ,\n",
       "         3387.4348],\n",
       "        [3393.4597, 3395.2957, 3391.2517, ..., 3398.2275, 3397.63  ,\n",
       "         3399.0745],\n",
       "        [3407.7112, 3406.084 , 3404.9968, ..., 3410.2131, 3410.488 ,\n",
       "         3409.7185],\n",
       "        ...,\n",
       "        [4100.156 , 4101.25  , 4098.6514, ..., 4096.019 , 4098.065 ,\n",
       "         4094.517 ],\n",
       "        [4099.791 , 4094.87  , 4096.6816, ..., 4096.563 , 4095.0813,\n",
       "         4097.526 ],\n",
       "        [4100.238 , 4098.1543, 4099.24  , ..., 4096.6206, 4096.6724,\n",
       "         4100.7163]]], dtype=float32)"
      ]
     },
     "execution_count": 17,
     "metadata": {},
     "output_type": "execute_result"
    }
   ],
   "source": [
    "image_quality.image_25apr_aveint"
   ]
  },
  {
   "cell_type": "code",
   "execution_count": null,
   "metadata": {},
   "outputs": [],
   "source": []
  }
 ],
 "metadata": {
  "kernelspec": {
   "display_name": "Python 3",
   "language": "python",
   "name": "python3"
  },
  "language_info": {
   "codemirror_mode": {
    "name": "ipython",
    "version": 3
   },
   "file_extension": ".py",
   "mimetype": "text/x-python",
   "name": "python",
   "nbconvert_exporter": "python",
   "pygments_lexer": "ipython3",
   "version": "3.7.3"
  }
 },
 "nbformat": 4,
 "nbformat_minor": 4
}
